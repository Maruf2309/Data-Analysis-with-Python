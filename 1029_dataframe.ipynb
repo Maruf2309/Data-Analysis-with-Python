{
 "cells": [
  {
   "attachments": {},
   "cell_type": "markdown",
   "metadata": {},
   "source": [
    "# Speed up your Pandas Code"
   ]
  },
  {
   "attachments": {},
   "cell_type": "markdown",
   "metadata": {},
   "source": [
    "- Make your code run 2000 times faster for large & large dataset"
   ]
  },
  {
   "cell_type": "code",
   "execution_count": 31,
   "metadata": {},
   "outputs": [],
   "source": [
    "import pandas as pd\n",
    "import numpy as np"
   ]
  },
  {
   "attachments": {},
   "cell_type": "markdown",
   "metadata": {},
   "source": [
    "# Create out dataset"
   ]
  },
  {
   "cell_type": "code",
   "execution_count": 32,
   "metadata": {},
   "outputs": [
    {
     "data": {
      "text/html": [
       "<div>\n",
       "<style scoped>\n",
       "    .dataframe tbody tr th:only-of-type {\n",
       "        vertical-align: middle;\n",
       "    }\n",
       "\n",
       "    .dataframe tbody tr th {\n",
       "        vertical-align: top;\n",
       "    }\n",
       "\n",
       "    .dataframe thead th {\n",
       "        text-align: right;\n",
       "    }\n",
       "</style>\n",
       "<table border=\"1\" class=\"dataframe\">\n",
       "  <thead>\n",
       "    <tr style=\"text-align: right;\">\n",
       "      <th></th>\n",
       "      <th>age</th>\n",
       "      <th>time_in_bed</th>\n",
       "      <th>pct_sleeping</th>\n",
       "      <th>favourite_food</th>\n",
       "      <th>dislike_food</th>\n",
       "    </tr>\n",
       "  </thead>\n",
       "  <tbody>\n",
       "    <tr>\n",
       "      <th>0</th>\n",
       "      <td>35</td>\n",
       "      <td>6</td>\n",
       "      <td>0.803207</td>\n",
       "      <td>ice_creme</td>\n",
       "      <td>chips</td>\n",
       "    </tr>\n",
       "    <tr>\n",
       "      <th>1</th>\n",
       "      <td>9</td>\n",
       "      <td>6</td>\n",
       "      <td>0.347198</td>\n",
       "      <td>ice_creme</td>\n",
       "      <td>candy</td>\n",
       "    </tr>\n",
       "    <tr>\n",
       "      <th>2</th>\n",
       "      <td>26</td>\n",
       "      <td>8</td>\n",
       "      <td>0.793518</td>\n",
       "      <td>burger</td>\n",
       "      <td>chips</td>\n",
       "    </tr>\n",
       "    <tr>\n",
       "      <th>3</th>\n",
       "      <td>86</td>\n",
       "      <td>7</td>\n",
       "      <td>0.975759</td>\n",
       "      <td>pizza</td>\n",
       "      <td>chips</td>\n",
       "    </tr>\n",
       "    <tr>\n",
       "      <th>4</th>\n",
       "      <td>45</td>\n",
       "      <td>7</td>\n",
       "      <td>0.572130</td>\n",
       "      <td>ice_creme</td>\n",
       "      <td>chips</td>\n",
       "    </tr>\n",
       "  </tbody>\n",
       "</table>\n",
       "</div>"
      ],
      "text/plain": [
       "   age  time_in_bed  pct_sleeping favourite_food dislike_food\n",
       "0   35            6      0.803207      ice_creme        chips\n",
       "1    9            6      0.347198      ice_creme        candy\n",
       "2   26            8      0.793518         burger        chips\n",
       "3   86            7      0.975759          pizza        chips\n",
       "4   45            7      0.572130      ice_creme        chips"
      ]
     },
     "execution_count": 32,
     "metadata": {},
     "output_type": "execute_result"
    }
   ],
   "source": [
    "# Method 1\n",
    "df = pd.DataFrame()    # Datafram kept in var to make col faster\n",
    "size = 10_000          # 10K datapoints\n",
    "df['age'] = np.random.randint(0, 100, size)   # col_name is 'age' :: min, max, size\n",
    "df['time_in_bed'] = np.random.randint(0, 9, size)\n",
    "df['pct_sleeping'] = np.random.rand(size)           # Sleeping %\n",
    "df['favourite_food'] = np.random.choice(['pizza', 'burger', 'ice_creme'], size)\n",
    "df['dislike_food'] = np.random.choice(['brocoli', 'candy', 'chips'], size)\n",
    "\n",
    "df.head()"
   ]
  },
  {
   "cell_type": "code",
   "execution_count": 33,
   "metadata": {},
   "outputs": [
    {
     "data": {
      "text/html": [
       "<div>\n",
       "<style scoped>\n",
       "    .dataframe tbody tr th:only-of-type {\n",
       "        vertical-align: middle;\n",
       "    }\n",
       "\n",
       "    .dataframe tbody tr th {\n",
       "        vertical-align: top;\n",
       "    }\n",
       "\n",
       "    .dataframe thead th {\n",
       "        text-align: right;\n",
       "    }\n",
       "</style>\n",
       "<table border=\"1\" class=\"dataframe\">\n",
       "  <thead>\n",
       "    <tr style=\"text-align: right;\">\n",
       "      <th></th>\n",
       "      <th>age</th>\n",
       "      <th>time_in_bed</th>\n",
       "      <th>pct_sleeping</th>\n",
       "      <th>favourite_food</th>\n",
       "      <th>dislike_food</th>\n",
       "    </tr>\n",
       "  </thead>\n",
       "  <tbody>\n",
       "    <tr>\n",
       "      <th>0</th>\n",
       "      <td>37</td>\n",
       "      <td>4</td>\n",
       "      <td>0.034785</td>\n",
       "      <td>ice_creme</td>\n",
       "      <td>candy</td>\n",
       "    </tr>\n",
       "    <tr>\n",
       "      <th>1</th>\n",
       "      <td>78</td>\n",
       "      <td>0</td>\n",
       "      <td>0.352590</td>\n",
       "      <td>burger</td>\n",
       "      <td>candy</td>\n",
       "    </tr>\n",
       "    <tr>\n",
       "      <th>2</th>\n",
       "      <td>38</td>\n",
       "      <td>1</td>\n",
       "      <td>0.452864</td>\n",
       "      <td>ice_creme</td>\n",
       "      <td>candy</td>\n",
       "    </tr>\n",
       "    <tr>\n",
       "      <th>3</th>\n",
       "      <td>93</td>\n",
       "      <td>6</td>\n",
       "      <td>0.784427</td>\n",
       "      <td>ice_creme</td>\n",
       "      <td>chips</td>\n",
       "    </tr>\n",
       "    <tr>\n",
       "      <th>4</th>\n",
       "      <td>15</td>\n",
       "      <td>4</td>\n",
       "      <td>0.720532</td>\n",
       "      <td>ice_creme</td>\n",
       "      <td>chips</td>\n",
       "    </tr>\n",
       "    <tr>\n",
       "      <th>...</th>\n",
       "      <td>...</td>\n",
       "      <td>...</td>\n",
       "      <td>...</td>\n",
       "      <td>...</td>\n",
       "      <td>...</td>\n",
       "    </tr>\n",
       "    <tr>\n",
       "      <th>100995</th>\n",
       "      <td>96</td>\n",
       "      <td>8</td>\n",
       "      <td>0.875072</td>\n",
       "      <td>pizza</td>\n",
       "      <td>chips</td>\n",
       "    </tr>\n",
       "    <tr>\n",
       "      <th>100996</th>\n",
       "      <td>87</td>\n",
       "      <td>0</td>\n",
       "      <td>0.436018</td>\n",
       "      <td>pizza</td>\n",
       "      <td>brocoli</td>\n",
       "    </tr>\n",
       "    <tr>\n",
       "      <th>100997</th>\n",
       "      <td>49</td>\n",
       "      <td>8</td>\n",
       "      <td>0.141486</td>\n",
       "      <td>ice_creme</td>\n",
       "      <td>brocoli</td>\n",
       "    </tr>\n",
       "    <tr>\n",
       "      <th>100998</th>\n",
       "      <td>19</td>\n",
       "      <td>7</td>\n",
       "      <td>0.856812</td>\n",
       "      <td>burger</td>\n",
       "      <td>brocoli</td>\n",
       "    </tr>\n",
       "    <tr>\n",
       "      <th>100999</th>\n",
       "      <td>64</td>\n",
       "      <td>5</td>\n",
       "      <td>0.144912</td>\n",
       "      <td>pizza</td>\n",
       "      <td>brocoli</td>\n",
       "    </tr>\n",
       "  </tbody>\n",
       "</table>\n",
       "<p>101000 rows × 5 columns</p>\n",
       "</div>"
      ],
      "text/plain": [
       "        age  time_in_bed  pct_sleeping favourite_food dislike_food\n",
       "0        37            4      0.034785      ice_creme        candy\n",
       "1        78            0      0.352590         burger        candy\n",
       "2        38            1      0.452864      ice_creme        candy\n",
       "3        93            6      0.784427      ice_creme        chips\n",
       "4        15            4      0.720532      ice_creme        chips\n",
       "...     ...          ...           ...            ...          ...\n",
       "100995   96            8      0.875072          pizza        chips\n",
       "100996   87            0      0.436018          pizza      brocoli\n",
       "100997   49            8      0.141486      ice_creme      brocoli\n",
       "100998   19            7      0.856812         burger      brocoli\n",
       "100999   64            5      0.144912          pizza      brocoli\n",
       "\n",
       "[101000 rows x 5 columns]"
      ]
     },
     "execution_count": 33,
     "metadata": {},
     "output_type": "execute_result"
    }
   ],
   "source": [
    "# Alternative Method:\n",
    "def get_data(size = 10_1000):\n",
    "    df = pd.DataFrame()\n",
    "    df['age'] = np.random.randint(0, 100, size)   # col_name is 'age' :: min, max, size\n",
    "    df['time_in_bed'] = np.random.randint(0, 9, size)\n",
    "    df['pct_sleeping'] = np.random.rand(size)           # Sleeping %\n",
    "    df['favourite_food'] = np.random.choice(['pizza', 'burger', 'ice_creme'], size)\n",
    "    df['dislike_food'] = np.random.choice(['brocoli', 'candy', 'chips'], size)\n",
    "\n",
    "    return df\n",
    "\n",
    "get_data()"
   ]
  },
  {
   "cell_type": "code",
   "execution_count": 34,
   "metadata": {},
   "outputs": [
    {
     "data": {
      "text/html": [
       "<div>\n",
       "<style scoped>\n",
       "    .dataframe tbody tr th:only-of-type {\n",
       "        vertical-align: middle;\n",
       "    }\n",
       "\n",
       "    .dataframe tbody tr th {\n",
       "        vertical-align: top;\n",
       "    }\n",
       "\n",
       "    .dataframe thead th {\n",
       "        text-align: right;\n",
       "    }\n",
       "</style>\n",
       "<table border=\"1\" class=\"dataframe\">\n",
       "  <thead>\n",
       "    <tr style=\"text-align: right;\">\n",
       "      <th></th>\n",
       "      <th>age</th>\n",
       "      <th>time_in_bed</th>\n",
       "      <th>pct_sleeping</th>\n",
       "      <th>favourite_food</th>\n",
       "      <th>dislike_food</th>\n",
       "    </tr>\n",
       "  </thead>\n",
       "  <tbody>\n",
       "    <tr>\n",
       "      <th>0</th>\n",
       "      <td>35</td>\n",
       "      <td>6</td>\n",
       "      <td>0.803207</td>\n",
       "      <td>ice_creme</td>\n",
       "      <td>chips</td>\n",
       "    </tr>\n",
       "    <tr>\n",
       "      <th>1</th>\n",
       "      <td>9</td>\n",
       "      <td>6</td>\n",
       "      <td>0.347198</td>\n",
       "      <td>ice_creme</td>\n",
       "      <td>candy</td>\n",
       "    </tr>\n",
       "    <tr>\n",
       "      <th>2</th>\n",
       "      <td>26</td>\n",
       "      <td>8</td>\n",
       "      <td>0.793518</td>\n",
       "      <td>burger</td>\n",
       "      <td>chips</td>\n",
       "    </tr>\n",
       "    <tr>\n",
       "      <th>3</th>\n",
       "      <td>86</td>\n",
       "      <td>7</td>\n",
       "      <td>0.975759</td>\n",
       "      <td>pizza</td>\n",
       "      <td>chips</td>\n",
       "    </tr>\n",
       "    <tr>\n",
       "      <th>4</th>\n",
       "      <td>45</td>\n",
       "      <td>7</td>\n",
       "      <td>0.572130</td>\n",
       "      <td>ice_creme</td>\n",
       "      <td>chips</td>\n",
       "    </tr>\n",
       "  </tbody>\n",
       "</table>\n",
       "</div>"
      ],
      "text/plain": [
       "   age  time_in_bed  pct_sleeping favourite_food dislike_food\n",
       "0   35            6      0.803207      ice_creme        chips\n",
       "1    9            6      0.347198      ice_creme        candy\n",
       "2   26            8      0.793518         burger        chips\n",
       "3   86            7      0.975759          pizza        chips\n",
       "4   45            7      0.572130      ice_creme        chips"
      ]
     },
     "execution_count": 34,
     "metadata": {},
     "output_type": "execute_result"
    }
   ],
   "source": [
    "df.head()"
   ]
  },
  {
   "cell_type": "code",
   "execution_count": 35,
   "metadata": {},
   "outputs": [
    {
     "data": {
      "text/plain": [
       "(10000, 5)"
      ]
     },
     "execution_count": 35,
     "metadata": {},
     "output_type": "execute_result"
    }
   ],
   "source": [
    "df.shape"
   ]
  },
  {
   "attachments": {},
   "cell_type": "markdown",
   "metadata": {},
   "source": [
    "### The Problem Statement"
   ]
  },
  {
   "attachments": {},
   "cell_type": "markdown",
   "metadata": {},
   "source": [
    "- Reward Calculation::\n",
    "\n",
    "- If you were in bed for more than 5 hour AND they were sleeping for more than 50% we will give them their favourite food, otherwise we will give them hate food\n",
    "- if you are over 90 years old give them fovourite food regardless age"
   ]
  },
  {
   "cell_type": "code",
   "execution_count": 36,
   "metadata": {},
   "outputs": [],
   "source": [
    "def reward_cal(row):\n",
    "    if row['age'] > 90:\n",
    "        return row['favourite_food']\n",
    "    if (row['time_in_bed'] > 5) & (row['pct_sleeping'] > 0.5):\n",
    "        return row['favourite_food']\n",
    "    return row['dislike_food']"
   ]
  },
  {
   "attachments": {},
   "cell_type": "markdown",
   "metadata": {},
   "source": [
    "# Level 1 - Loop"
   ]
  },
  {
   "cell_type": "code",
   "execution_count": 37,
   "metadata": {},
   "outputs": [
    {
     "name": "stdout",
     "output_type": "stream",
     "text": [
      "10 s ± 150 ms per loop (mean ± std. dev. of 7 runs, 1 loop each)\n"
     ]
    }
   ],
   "source": [
    "%%timeit        # it will show the run time for each\n",
    "df = get_data()\n",
    "for index, row in df.iterrows():\n",
    "    df.loc[index, 'reward'] = reward_cal(row)              # Comperative slow about 9 sec per runs\n"
   ]
  },
  {
   "attachments": {},
   "cell_type": "markdown",
   "metadata": {},
   "source": [
    "- each run was about 9.7 sec. That seem petty slow"
   ]
  },
  {
   "attachments": {},
   "cell_type": "markdown",
   "metadata": {},
   "source": [
    "# Level 2 - Apply"
   ]
  },
  {
   "cell_type": "code",
   "execution_count": 38,
   "metadata": {},
   "outputs": [
    {
     "name": "stdout",
     "output_type": "stream",
     "text": [
      "891 ms ± 3.59 ms per loop (mean ± std. dev. of 7 runs, 1 loop each)\n"
     ]
    }
   ],
   "source": [
    "%%timeit\n",
    "df = get_data()\n",
    "df['reward'] = df.apply(reward_cal, axis=1)                       # about 885 ms per runs"
   ]
  },
  {
   "attachments": {},
   "cell_type": "markdown",
   "metadata": {},
   "source": [
    "# Level 3 - Vectorized"
   ]
  },
  {
   "cell_type": "code",
   "execution_count": 42,
   "metadata": {},
   "outputs": [
    {
     "name": "stdout",
     "output_type": "stream",
     "text": [
      "27.9 ms ± 554 µs per loop (mean ± std. dev. of 7 runs, 10 loops each)\n"
     ]
    }
   ],
   "source": [
    "df = get_data()"
   ]
  },
  {
   "cell_type": "code",
   "execution_count": 43,
   "metadata": {},
   "outputs": [
    {
     "name": "stdout",
     "output_type": "stream",
     "text": [
      "866 µs ± 5.84 µs per loop (mean ± std. dev. of 7 runs, 1,000 loops each)\n"
     ]
    }
   ],
   "source": [
    "%%timeit\n",
    "df['reward'] = df['dislike_food']\n",
    "df.loc[((df['pct_sleeping'] > 0.5) &\n",
    "        (df['time_in_bed'] > 5)) |\n",
    "       (df['age'] > 90), 'reward'] = df['favourite_food']"
   ]
  },
  {
   "attachments": {},
   "cell_type": "markdown",
   "metadata": {},
   "source": [
    "# Plot Difference"
   ]
  },
  {
   "cell_type": "code",
   "execution_count": 44,
   "metadata": {},
   "outputs": [],
   "source": [
    "results = pd.DataFrame(\n",
    "    [\n",
    "        [\"loop\", 3580, 48.3],\n",
    "        [\"apply\", 192, 6.35],\n",
    "        [\"Vectorized\", 1.36, 0.00896],\n",
    "    ],\n",
    "    columns=[\"type\", \"mean\",\"std\"]\n",
    "    )"
   ]
  },
  {
   "cell_type": "code",
   "execution_count": 46,
   "metadata": {},
   "outputs": [
    {
     "data": {
      "text/plain": [
       "<AxesSubplot:title={'center':'Reward Calculation Run Time'}, xlabel='type'>"
      ]
     },
     "execution_count": 46,
     "metadata": {},
     "output_type": "execute_result"
    },
    {
     "data": {
      "image/png": "[encoded data removed]",
      "text/plain": [
       "<Figure size 640x480 with 1 Axes>"
      ]
     },
     "metadata": {},
     "output_type": "display_data"
    }
   ],
   "source": [
    "results.set_index('type')['mean'].plot(kind='bar', title='Reward Calculation Run Time')"
   ]
  },
  {
   "attachments": {},
   "cell_type": "markdown",
   "metadata": {},
   "source": [
    "- https://www.youtube.com/watch?v=SAFmrTnEHLg&list=RDCMUCxladMszXan-jfgzyeIMyvw\n",
    "- https://www.youtube.com/watch?v=u4_c2LDi4b8"
   ]
  }
 ],
 "metadata": {
  "kernelspec": {
   "display_name": "Python 3",
   "language": "python",
   "name": "python3"
  },
  "language_info": {
   "codemirror_mode": {
    "name": "ipython",
    "version": 3
   },
   "file_extension": ".py",
   "mimetype": "text/x-python",
   "name": "python",
   "nbconvert_exporter": "python",
   "pygments_lexer": "ipython3",
   "version": "3.10.7"
  },
  "orig_nbformat": 4
 },
 "nbformat": 4,
 "nbformat_minor": 2
}
