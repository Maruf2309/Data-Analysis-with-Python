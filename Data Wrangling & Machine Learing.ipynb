{
 "cells": [
  {
   "cell_type": "markdown",
   "id": "3918bddd",
   "metadata": {},
   "source": [
    "# Data Wrangling & Machine Learning"
   ]
  },
  {
   "cell_type": "markdown",
   "id": "ee2e62aa",
   "metadata": {},
   "source": [
    "##### Maruf Hossain"
   ]
  },
  {
   "cell_type": "code",
   "execution_count": 1,
   "id": "732df788",
   "metadata": {},
   "outputs": [],
   "source": [
    "import pandas as pd"
   ]
  },
  {
   "cell_type": "code",
   "execution_count": 12,
   "id": "329bc2e2",
   "metadata": {},
   "outputs": [
    {
     "data": {
      "text/html": [
       "<div>\n",
       "<style scoped>\n",
       "    .dataframe tbody tr th:only-of-type {\n",
       "        vertical-align: middle;\n",
       "    }\n",
       "\n",
       "    .dataframe tbody tr th {\n",
       "        vertical-align: top;\n",
       "    }\n",
       "\n",
       "    .dataframe thead th {\n",
       "        text-align: right;\n",
       "    }\n",
       "</style>\n",
       "<table border=\"1\" class=\"dataframe\">\n",
       "  <thead>\n",
       "    <tr style=\"text-align: right;\">\n",
       "      <th></th>\n",
       "      <th>operator_code</th>\n",
       "      <th>route_code</th>\n",
       "      <th>duration</th>\n",
       "    </tr>\n",
       "  </thead>\n",
       "  <tbody>\n",
       "    <tr>\n",
       "      <th>0</th>\n",
       "      <td>ARS</td>\n",
       "      <td>15</td>\n",
       "      <td>2h 5m</td>\n",
       "    </tr>\n",
       "    <tr>\n",
       "      <th>1</th>\n",
       "      <td>BDB</td>\n",
       "      <td>17</td>\n",
       "      <td>3h 15m</td>\n",
       "    </tr>\n",
       "    <tr>\n",
       "      <th>2</th>\n",
       "      <td>USB</td>\n",
       "      <td>28</td>\n",
       "      <td>5h 10m</td>\n",
       "    </tr>\n",
       "    <tr>\n",
       "      <th>3</th>\n",
       "      <td>ARC</td>\n",
       "      <td>25</td>\n",
       "      <td>2h 30m</td>\n",
       "    </tr>\n",
       "    <tr>\n",
       "      <th>4</th>\n",
       "      <td>QAL</td>\n",
       "      <td>13</td>\n",
       "      <td>1h 15m</td>\n",
       "    </tr>\n",
       "  </tbody>\n",
       "</table>\n",
       "</div>"
      ],
      "text/plain": [
       "  operator_code  route_code duration\n",
       "0           ARS          15    2h 5m\n",
       "1           BDB          17   3h 15m\n",
       "2           USB          28   5h 10m\n",
       "3           ARC          25   2h 30m\n",
       "4           QAL          13   1h 15m"
      ]
     },
     "execution_count": 12,
     "metadata": {},
     "output_type": "execute_result"
    }
   ],
   "source": [
    "df = pd.read_csv('flight_data.csv')\n",
    "df"
   ]
  },
  {
   "cell_type": "markdown",
   "id": "69a62705",
   "metadata": {},
   "source": [
    "# Problem  Statment"
   ]
  },
  {
   "cell_type": "markdown",
   "id": "36907109",
   "metadata": {},
   "source": [
    "- Here the data in duration is in str format, we need to convert this data to numerical for statistical anlysis or predictive model for machine learning\n",
    "- Objective: The objective is to convert col duration to duration in minutes/ only minutes/ numerical conversion"
   ]
  },
  {
   "cell_type": "markdown",
   "id": "500cae63",
   "metadata": {},
   "source": [
    "### Analysis"
   ]
  },
  {
   "cell_type": "code",
   "execution_count": 3,
   "id": "611d6801",
   "metadata": {},
   "outputs": [
    {
     "data": {
      "text/plain": [
       "'2h 5m'"
      ]
     },
     "execution_count": 3,
     "metadata": {},
     "output_type": "execute_result"
    }
   ],
   "source": [
    "d = df.duration[0]  # 2h 5m is is full str\n",
    "d"
   ]
  },
  {
   "cell_type": "code",
   "execution_count": 13,
   "id": "835a4b39",
   "metadata": {},
   "outputs": [],
   "source": [
    "# d.split()  # Spliting data (full str into two)"
   ]
  },
  {
   "cell_type": "code",
   "execution_count": 15,
   "id": "0a4c0370",
   "metadata": {},
   "outputs": [],
   "source": [
    "# d.split() [0]  # getting first part, Working 1\n",
    "# d.split()[0].replace('h','')  # replace h to nothing, Working 2\n",
    "# int(d.split()[0].replace('h','')) * 60  # first making int and multiplied by 60 to get total mins, working-3"
   ]
  },
  {
   "cell_type": "markdown",
   "id": "0c7a1d88",
   "metadata": {},
   "source": [
    "# Method 1"
   ]
  },
  {
   "cell_type": "markdown",
   "id": "dfe410bc",
   "metadata": {},
   "source": [
    "- In method, need to run one by one record/row, which will time consuming for real life Proejec"
   ]
  },
  {
   "cell_type": "code",
   "execution_count": 16,
   "id": "2d36a4f0",
   "metadata": {},
   "outputs": [
    {
     "data": {
      "text/plain": [
       "60"
      ]
     },
     "execution_count": 16,
     "metadata": {},
     "output_type": "execute_result"
    }
   ],
   "source": [
    "int (d.split() [0].replace('h','')) * 60  # Split & Convert to Minutes"
   ]
  },
  {
   "cell_type": "code",
   "execution_count": 17,
   "id": "061d881f",
   "metadata": {},
   "outputs": [
    {
     "data": {
      "text/plain": [
       "15"
      ]
     },
     "execution_count": 17,
     "metadata": {},
     "output_type": "execute_result"
    }
   ],
   "source": [
    "int(d.split() [1].replace('m','')) # Replaceing minutes with nothing"
   ]
  },
  {
   "cell_type": "markdown",
   "id": "45c8a316",
   "metadata": {},
   "source": [
    "### Add hours(converted mins) & minutes togehter"
   ]
  },
  {
   "cell_type": "code",
   "execution_count": 6,
   "id": "7593c041",
   "metadata": {},
   "outputs": [
    {
     "data": {
      "text/plain": [
       "125"
      ]
     },
     "execution_count": 6,
     "metadata": {},
     "output_type": "execute_result"
    }
   ],
   "source": [
    "int (d.split() [0].replace('h','')) * 60 +  int(d.split() [1].replace('m',''))"
   ]
  },
  {
   "cell_type": "markdown",
   "id": "6acc9ac0",
   "metadata": {},
   "source": [
    "# Method 2 : Tradional Method / Loop"
   ]
  },
  {
   "cell_type": "code",
   "execution_count": 7,
   "id": "f557c956",
   "metadata": {},
   "outputs": [],
   "source": [
    "for i, d in enumerate(df.duration):\n",
    "    dur = int (d.split() [0].replace('h','')) * 60 +  int(d.split() [1].replace('m',''))\n",
    "    df.loc[i,'dur_mins'] = dur"
   ]
  },
  {
   "cell_type": "code",
   "execution_count": 8,
   "id": "8cf27c65",
   "metadata": {},
   "outputs": [
    {
     "data": {
      "text/html": [
       "<div>\n",
       "<style scoped>\n",
       "    .dataframe tbody tr th:only-of-type {\n",
       "        vertical-align: middle;\n",
       "    }\n",
       "\n",
       "    .dataframe tbody tr th {\n",
       "        vertical-align: top;\n",
       "    }\n",
       "\n",
       "    .dataframe thead th {\n",
       "        text-align: right;\n",
       "    }\n",
       "</style>\n",
       "<table border=\"1\" class=\"dataframe\">\n",
       "  <thead>\n",
       "    <tr style=\"text-align: right;\">\n",
       "      <th></th>\n",
       "      <th>operator_code</th>\n",
       "      <th>route_code</th>\n",
       "      <th>duration</th>\n",
       "      <th>dur_mins</th>\n",
       "    </tr>\n",
       "  </thead>\n",
       "  <tbody>\n",
       "    <tr>\n",
       "      <th>0</th>\n",
       "      <td>ARS</td>\n",
       "      <td>15</td>\n",
       "      <td>2h 5m</td>\n",
       "      <td>125.0</td>\n",
       "    </tr>\n",
       "    <tr>\n",
       "      <th>1</th>\n",
       "      <td>BDB</td>\n",
       "      <td>17</td>\n",
       "      <td>3h 15m</td>\n",
       "      <td>195.0</td>\n",
       "    </tr>\n",
       "    <tr>\n",
       "      <th>2</th>\n",
       "      <td>USB</td>\n",
       "      <td>28</td>\n",
       "      <td>5h 10m</td>\n",
       "      <td>310.0</td>\n",
       "    </tr>\n",
       "    <tr>\n",
       "      <th>3</th>\n",
       "      <td>ARC</td>\n",
       "      <td>25</td>\n",
       "      <td>2h 30m</td>\n",
       "      <td>150.0</td>\n",
       "    </tr>\n",
       "    <tr>\n",
       "      <th>4</th>\n",
       "      <td>QAL</td>\n",
       "      <td>13</td>\n",
       "      <td>1h 15m</td>\n",
       "      <td>75.0</td>\n",
       "    </tr>\n",
       "  </tbody>\n",
       "</table>\n",
       "</div>"
      ],
      "text/plain": [
       "  operator_code  route_code duration  dur_mins\n",
       "0           ARS          15    2h 5m     125.0\n",
       "1           BDB          17   3h 15m     195.0\n",
       "2           USB          28   5h 10m     310.0\n",
       "3           ARC          25   2h 30m     150.0\n",
       "4           QAL          13   1h 15m      75.0"
      ]
     },
     "execution_count": 8,
     "metadata": {},
     "output_type": "execute_result"
    }
   ],
   "source": [
    "df.head()"
   ]
  },
  {
   "cell_type": "markdown",
   "id": "236bd58c",
   "metadata": {},
   "source": [
    "#### Code Narration of method 2"
   ]
  },
  {
   "cell_type": "markdown",
   "id": "ed45fede",
   "metadata": {},
   "source": [
    "- for d in df.duration: it will go recode by record into d\n",
    "- df.loc(i, 'dur_mins') = i is index, when first run i will be 0 then 1,2,3...n\n",
    "- loc = duration means is location not index"
   ]
  },
  {
   "cell_type": "markdown",
   "id": "416801d0",
   "metadata": {},
   "source": [
    "# Method 3 : Most Effecient / Using Function"
   ]
  },
  {
   "cell_type": "code",
   "execution_count": 9,
   "id": "e0f337b5",
   "metadata": {},
   "outputs": [],
   "source": [
    "def dur(d) : \n",
    "    return int (d.split() [0].replace('h','')) * 60 +  int(d.split() [1].replace('m',''))"
   ]
  },
  {
   "cell_type": "code",
   "execution_count": 10,
   "id": "e7bf42cd",
   "metadata": {},
   "outputs": [],
   "source": [
    "df['dur_mins'] = df.duration.apply(dur) # duration is actual column, earlier defined function 'dur' passed into 'apply'"
   ]
  },
  {
   "cell_type": "code",
   "execution_count": 11,
   "id": "041b913f",
   "metadata": {},
   "outputs": [
    {
     "data": {
      "text/html": [
       "<div>\n",
       "<style scoped>\n",
       "    .dataframe tbody tr th:only-of-type {\n",
       "        vertical-align: middle;\n",
       "    }\n",
       "\n",
       "    .dataframe tbody tr th {\n",
       "        vertical-align: top;\n",
       "    }\n",
       "\n",
       "    .dataframe thead th {\n",
       "        text-align: right;\n",
       "    }\n",
       "</style>\n",
       "<table border=\"1\" class=\"dataframe\">\n",
       "  <thead>\n",
       "    <tr style=\"text-align: right;\">\n",
       "      <th></th>\n",
       "      <th>operator_code</th>\n",
       "      <th>route_code</th>\n",
       "      <th>duration</th>\n",
       "      <th>dur_mins</th>\n",
       "    </tr>\n",
       "  </thead>\n",
       "  <tbody>\n",
       "    <tr>\n",
       "      <th>0</th>\n",
       "      <td>ARS</td>\n",
       "      <td>15</td>\n",
       "      <td>2h 5m</td>\n",
       "      <td>125</td>\n",
       "    </tr>\n",
       "    <tr>\n",
       "      <th>1</th>\n",
       "      <td>BDB</td>\n",
       "      <td>17</td>\n",
       "      <td>3h 15m</td>\n",
       "      <td>195</td>\n",
       "    </tr>\n",
       "    <tr>\n",
       "      <th>2</th>\n",
       "      <td>USB</td>\n",
       "      <td>28</td>\n",
       "      <td>5h 10m</td>\n",
       "      <td>310</td>\n",
       "    </tr>\n",
       "    <tr>\n",
       "      <th>3</th>\n",
       "      <td>ARC</td>\n",
       "      <td>25</td>\n",
       "      <td>2h 30m</td>\n",
       "      <td>150</td>\n",
       "    </tr>\n",
       "    <tr>\n",
       "      <th>4</th>\n",
       "      <td>QAL</td>\n",
       "      <td>13</td>\n",
       "      <td>1h 15m</td>\n",
       "      <td>75</td>\n",
       "    </tr>\n",
       "  </tbody>\n",
       "</table>\n",
       "</div>"
      ],
      "text/plain": [
       "  operator_code  route_code duration  dur_mins\n",
       "0           ARS          15    2h 5m       125\n",
       "1           BDB          17   3h 15m       195\n",
       "2           USB          28   5h 10m       310\n",
       "3           ARC          25   2h 30m       150\n",
       "4           QAL          13   1h 15m        75"
      ]
     },
     "execution_count": 11,
     "metadata": {},
     "output_type": "execute_result"
    }
   ],
   "source": [
    "df.head()"
   ]
  },
  {
   "cell_type": "markdown",
   "id": "9a60ba00",
   "metadata": {},
   "source": [
    "### Code Narration - Method 3"
   ]
  },
  {
   "cell_type": "markdown",
   "id": "24d7dc83",
   "metadata": {},
   "source": [
    "- Lets give a function name e.g dur (any name can be given)\n",
    "- d inside bracket is taken as \"input\"\n",
    "- 'dur_mins' is a field where converted data will be stored\n",
    "- apply takes the function 'dur' & apply on record by record (each row)\n",
    "- Apply is being heavily used to data tranforamtion in pandas & in data preperation"
   ]
  }
 ],
 "metadata": {
  "kernelspec": {
   "display_name": "Python 3 (ipykernel)",
   "language": "python",
   "name": "python3"
  },
  "language_info": {
   "codemirror_mode": {
    "name": "ipython",
    "version": 3
   },
   "file_extension": ".py",
   "mimetype": "text/x-python",
   "name": "python",
   "nbconvert_exporter": "python",
   "pygments_lexer": "ipython3",
   "version": "3.9.12"
  }
 },
 "nbformat": 4,
 "nbformat_minor": 5
}
